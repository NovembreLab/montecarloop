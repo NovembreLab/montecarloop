{
 "cells": [
  {
   "cell_type": "code",
   "execution_count": 1,
   "metadata": {},
   "outputs": [],
   "source": [
    "from montecarloop import Dealer, JsonFileCache"
   ]
  },
  {
   "cell_type": "code",
   "execution_count": 2,
   "metadata": {
    "scrolled": true
   },
   "outputs": [
    {
     "data": {
      "text/html": [
       "<div>\n",
       "<style scoped>\n",
       "    .dataframe tbody tr th:only-of-type {\n",
       "        vertical-align: middle;\n",
       "    }\n",
       "\n",
       "    .dataframe tbody tr th {\n",
       "        vertical-align: top;\n",
       "    }\n",
       "\n",
       "    .dataframe thead th {\n",
       "        text-align: right;\n",
       "    }\n",
       "</style>\n",
       "<table border=\"1\" class=\"dataframe\">\n",
       "  <thead>\n",
       "    <tr style=\"text-align: right;\">\n",
       "      <th></th>\n",
       "      <th>stat</th>\n",
       "      <th>num</th>\n",
       "      <th>mean</th>\n",
       "      <th>std_dev</th>\n",
       "      <th>std_err</th>\n",
       "      <th>@n</th>\n",
       "      <th>@r</th>\n",
       "    </tr>\n",
       "  </thead>\n",
       "  <tbody>\n",
       "    <tr>\n",
       "      <th>0</th>\n",
       "      <td>pi</td>\n",
       "      <td>32000</td>\n",
       "      <td>3.142226</td>\n",
       "      <td>0.163418</td>\n",
       "      <td>0.000914</td>\n",
       "      <td>100</td>\n",
       "      <td>1.000000</td>\n",
       "    </tr>\n",
       "    <tr>\n",
       "      <th>1</th>\n",
       "      <td>pi</td>\n",
       "      <td>32000</td>\n",
       "      <td>3.141506</td>\n",
       "      <td>0.052278</td>\n",
       "      <td>0.000292</td>\n",
       "      <td>1000</td>\n",
       "      <td>1.000000</td>\n",
       "    </tr>\n",
       "    <tr>\n",
       "      <th>2</th>\n",
       "      <td>pi</td>\n",
       "      <td>32000</td>\n",
       "      <td>3.141496</td>\n",
       "      <td>0.016487</td>\n",
       "      <td>0.000092</td>\n",
       "      <td>10000</td>\n",
       "      <td>1.000000</td>\n",
       "    </tr>\n",
       "    <tr>\n",
       "      <th>3</th>\n",
       "      <td>pi</td>\n",
       "      <td>32000</td>\n",
       "      <td>3.141571</td>\n",
       "      <td>0.031462</td>\n",
       "      <td>0.000176</td>\n",
       "      <td>10000</td>\n",
       "      <td>0.797885</td>\n",
       "    </tr>\n",
       "    <tr>\n",
       "      <th>4</th>\n",
       "      <td>pi</td>\n",
       "      <td>32000</td>\n",
       "      <td>3.141261</td>\n",
       "      <td>0.016258</td>\n",
       "      <td>0.000091</td>\n",
       "      <td>10000</td>\n",
       "      <td>1.001000</td>\n",
       "    </tr>\n",
       "  </tbody>\n",
       "</table>\n",
       "</div>"
      ],
      "text/plain": [
       "  stat    num      mean   std_dev   std_err     @n        @r\n",
       "0   pi  32000  3.142226  0.163418  0.000914    100  1.000000\n",
       "1   pi  32000  3.141506  0.052278  0.000292   1000  1.000000\n",
       "2   pi  32000  3.141496  0.016487  0.000092  10000  1.000000\n",
       "3   pi  32000  3.141571  0.031462  0.000176  10000  0.797885\n",
       "4   pi  32000  3.141261  0.016258  0.000091  10000  1.001000"
      ]
     },
     "execution_count": 2,
     "metadata": {},
     "output_type": "execute_result"
    }
   ],
   "source": [
    "Dealer(JsonFileCache(\"cache.json\")).summary()"
   ]
  },
  {
   "cell_type": "markdown",
   "metadata": {},
   "source": [
    "### Explanation of output\n",
    "\n",
    "The `@n` and `@r` columns reflect simulation parameters (`sim_params`) that were set in the `cache.json` file. These simulation params are used by the `pi_script.py` script to caclulate estimates of Pi. Each simulator can define parameters of any name. They will appear with `@` prepended in this output. In this case, `@n` is the number of random points dropped in the square of area 4, and `@r` is radius of the circle evaluated.\n"
   ]
  },
  {
   "cell_type": "markdown",
   "metadata": {},
   "source": [
    "# Evaluate Theoretical Expectations\n",
    "\n",
    "Below the same cached calculations are evaluated against theoretical expectations. In this case, just Pi. For this reason, new columns for `null_hypo` and `pvalue` appear."
   ]
  },
  {
   "cell_type": "code",
   "execution_count": 3,
   "metadata": {},
   "outputs": [],
   "source": [
    "import math\n",
    "\n",
    "def theory(sim_params):\n",
    "    return dict(pi=math.pi)"
   ]
  },
  {
   "cell_type": "code",
   "execution_count": 4,
   "metadata": {
    "scrolled": true
   },
   "outputs": [
    {
     "data": {
      "text/html": [
       "<div>\n",
       "<style scoped>\n",
       "    .dataframe tbody tr th:only-of-type {\n",
       "        vertical-align: middle;\n",
       "    }\n",
       "\n",
       "    .dataframe tbody tr th {\n",
       "        vertical-align: top;\n",
       "    }\n",
       "\n",
       "    .dataframe thead th {\n",
       "        text-align: right;\n",
       "    }\n",
       "</style>\n",
       "<table border=\"1\" class=\"dataframe\">\n",
       "  <thead>\n",
       "    <tr style=\"text-align: right;\">\n",
       "      <th></th>\n",
       "      <th>stat</th>\n",
       "      <th>num</th>\n",
       "      <th>mean</th>\n",
       "      <th>std_dev</th>\n",
       "      <th>std_err</th>\n",
       "      <th>null_hypo</th>\n",
       "      <th>pvalue</th>\n",
       "      <th>@n</th>\n",
       "      <th>@r</th>\n",
       "    </tr>\n",
       "  </thead>\n",
       "  <tbody>\n",
       "    <tr>\n",
       "      <th>0</th>\n",
       "      <td>pi</td>\n",
       "      <td>32000</td>\n",
       "      <td>3.142226</td>\n",
       "      <td>0.163418</td>\n",
       "      <td>0.000914</td>\n",
       "      <td>3.141593</td>\n",
       "      <td>0.487961</td>\n",
       "      <td>100</td>\n",
       "      <td>1.000000</td>\n",
       "    </tr>\n",
       "    <tr>\n",
       "      <th>1</th>\n",
       "      <td>pi</td>\n",
       "      <td>32000</td>\n",
       "      <td>3.141506</td>\n",
       "      <td>0.052278</td>\n",
       "      <td>0.000292</td>\n",
       "      <td>3.141593</td>\n",
       "      <td>0.765862</td>\n",
       "      <td>1000</td>\n",
       "      <td>1.000000</td>\n",
       "    </tr>\n",
       "    <tr>\n",
       "      <th>2</th>\n",
       "      <td>pi</td>\n",
       "      <td>32000</td>\n",
       "      <td>3.141496</td>\n",
       "      <td>0.016487</td>\n",
       "      <td>0.000092</td>\n",
       "      <td>3.141593</td>\n",
       "      <td>0.293948</td>\n",
       "      <td>10000</td>\n",
       "      <td>1.000000</td>\n",
       "    </tr>\n",
       "    <tr>\n",
       "      <th>3</th>\n",
       "      <td>pi</td>\n",
       "      <td>32000</td>\n",
       "      <td>3.141571</td>\n",
       "      <td>0.031462</td>\n",
       "      <td>0.000176</td>\n",
       "      <td>3.141593</td>\n",
       "      <td>0.901142</td>\n",
       "      <td>10000</td>\n",
       "      <td>0.797885</td>\n",
       "    </tr>\n",
       "    <tr>\n",
       "      <th>4</th>\n",
       "      <td>pi</td>\n",
       "      <td>32000</td>\n",
       "      <td>3.141261</td>\n",
       "      <td>0.016258</td>\n",
       "      <td>0.000091</td>\n",
       "      <td>3.141593</td>\n",
       "      <td>0.000262</td>\n",
       "      <td>10000</td>\n",
       "      <td>1.001000</td>\n",
       "    </tr>\n",
       "  </tbody>\n",
       "</table>\n",
       "</div>"
      ],
      "text/plain": [
       "  stat    num      mean   std_dev   std_err  null_hypo    pvalue     @n  \\\n",
       "0   pi  32000  3.142226  0.163418  0.000914   3.141593  0.487961    100   \n",
       "1   pi  32000  3.141506  0.052278  0.000292   3.141593  0.765862   1000   \n",
       "2   pi  32000  3.141496  0.016487  0.000092   3.141593  0.293948  10000   \n",
       "3   pi  32000  3.141571  0.031462  0.000176   3.141593  0.901142  10000   \n",
       "4   pi  32000  3.141261  0.016258  0.000091   3.141593  0.000262  10000   \n",
       "\n",
       "         @r  \n",
       "0  1.000000  \n",
       "1  1.000000  \n",
       "2  1.000000  \n",
       "3  0.797885  \n",
       "4  1.001000  "
      ]
     },
     "execution_count": 4,
     "metadata": {},
     "output_type": "execute_result"
    }
   ],
   "source": [
    "Dealer(JsonFileCache(\"cache.json\")).summary(theory)"
   ]
  }
 ],
 "metadata": {
  "kernelspec": {
   "display_name": "Python 3",
   "language": "python",
   "name": "python3"
  },
  "language_info": {
   "codemirror_mode": {
    "name": "ipython",
    "version": 3
   },
   "file_extension": ".py",
   "mimetype": "text/x-python",
   "name": "python",
   "nbconvert_exporter": "python",
   "pygments_lexer": "ipython3",
   "version": "3.9.1"
  }
 },
 "nbformat": 4,
 "nbformat_minor": 4
}
